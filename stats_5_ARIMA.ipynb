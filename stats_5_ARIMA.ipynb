{
  "nbformat": 4,
  "nbformat_minor": 0,
  "metadata": {
    "colab": {
      "name": "stats-5-ARIMA.ipynb",
      "provenance": [],
      "collapsed_sections": [],
      "toc_visible": true,
      "authorship_tag": "ABX9TyOMfUXMlWqzJtCPP64SdYp4",
      "include_colab_link": true
    },
    "kernelspec": {
      "name": "python3",
      "display_name": "Python 3"
    }
  },
  "cells": [
    {
      "cell_type": "markdown",
      "metadata": {
        "id": "view-in-github",
        "colab_type": "text"
      },
      "source": [
        "<a href=\"https://colab.research.google.com/github/project-mlx/Stats/blob/main/stats_5_ARIMA.ipynb\" target=\"_parent\"><img src=\"https://colab.research.google.com/assets/colab-badge.svg\" alt=\"Open In Colab\"/></a>"
      ]
    },
    {
      "cell_type": "markdown",
      "metadata": {
        "id": "i60s1HEkpETk"
      },
      "source": [
        "#ARIMA performed on a shamoo sales dataset \n",
        "(The original dataset is credited to Makridakis, Wheelwright, and Hyndman (1998))\n",
        "\n",
        "- Stats analysis\n",
        "- Model fitting\n",
        "- Evaluation\n",
        "- Accuray assessment\n"
      ]
    },
    {
      "cell_type": "code",
      "metadata": {
        "id": "cKKrQE3coWu6"
      },
      "source": [
        "import pandas as pd\n",
        "from matplotlib import pyplot"
      ],
      "execution_count": 119,
      "outputs": []
    },
    {
      "cell_type": "code",
      "metadata": {
        "id": "BOP9H384olfn"
      },
      "source": [
        "df = pd.read_csv('https://raw.githubusercontent.com/jbrownlee/Datasets/master/shampoo.csv')"
      ],
      "execution_count": 120,
      "outputs": []
    },
    {
      "cell_type": "code",
      "metadata": {
        "colab": {
          "base_uri": "https://localhost:8080/",
          "height": 204
        },
        "id": "qLH2aQeaov98",
        "outputId": "15b0b335-76f4-4c42-f559-4818712d84bc"
      },
      "source": [
        "df.head()"
      ],
      "execution_count": 121,
      "outputs": [
        {
          "output_type": "execute_result",
          "data": {
            "text/html": [
              "<div>\n",
              "<style scoped>\n",
              "    .dataframe tbody tr th:only-of-type {\n",
              "        vertical-align: middle;\n",
              "    }\n",
              "\n",
              "    .dataframe tbody tr th {\n",
              "        vertical-align: top;\n",
              "    }\n",
              "\n",
              "    .dataframe thead th {\n",
              "        text-align: right;\n",
              "    }\n",
              "</style>\n",
              "<table border=\"1\" class=\"dataframe\">\n",
              "  <thead>\n",
              "    <tr style=\"text-align: right;\">\n",
              "      <th></th>\n",
              "      <th>Month</th>\n",
              "      <th>Sales</th>\n",
              "    </tr>\n",
              "  </thead>\n",
              "  <tbody>\n",
              "    <tr>\n",
              "      <th>0</th>\n",
              "      <td>1-01</td>\n",
              "      <td>266.0</td>\n",
              "    </tr>\n",
              "    <tr>\n",
              "      <th>1</th>\n",
              "      <td>1-02</td>\n",
              "      <td>145.9</td>\n",
              "    </tr>\n",
              "    <tr>\n",
              "      <th>2</th>\n",
              "      <td>1-03</td>\n",
              "      <td>183.1</td>\n",
              "    </tr>\n",
              "    <tr>\n",
              "      <th>3</th>\n",
              "      <td>1-04</td>\n",
              "      <td>119.3</td>\n",
              "    </tr>\n",
              "    <tr>\n",
              "      <th>4</th>\n",
              "      <td>1-05</td>\n",
              "      <td>180.3</td>\n",
              "    </tr>\n",
              "  </tbody>\n",
              "</table>\n",
              "</div>"
            ],
            "text/plain": [
              "  Month  Sales\n",
              "0  1-01  266.0\n",
              "1  1-02  145.9\n",
              "2  1-03  183.1\n",
              "3  1-04  119.3\n",
              "4  1-05  180.3"
            ]
          },
          "metadata": {
            "tags": []
          },
          "execution_count": 121
        }
      ]
    },
    {
      "cell_type": "markdown",
      "metadata": {
        "id": "y9AX2cCywYhP"
      },
      "source": [
        "##Preprocessing"
      ]
    },
    {
      "cell_type": "code",
      "metadata": {
        "colab": {
          "base_uri": "https://localhost:8080/"
        },
        "id": "0XEzvfxOqRUK",
        "outputId": "55abd43c-ba80-4a3a-d34c-484d622370de"
      },
      "source": [
        "#implementing custom dates as they are not available in the dataset\n",
        "df.Month = df.Month.apply(lambda x: pd.datetime.strptime('190'+x, '%Y-%m'))\n",
        "df = df.set_index('Month')"
      ],
      "execution_count": 122,
      "outputs": [
        {
          "output_type": "stream",
          "text": [
            "/usr/local/lib/python3.6/dist-packages/ipykernel_launcher.py:2: FutureWarning: The pandas.datetime class is deprecated and will be removed from pandas in a future version. Import from datetime instead.\n",
            "  \n"
          ],
          "name": "stderr"
        }
      ]
    },
    {
      "cell_type": "code",
      "metadata": {
        "colab": {
          "base_uri": "https://localhost:8080/",
          "height": 235
        },
        "id": "ulhXEMY3uX7s",
        "outputId": "252bde30-b9ad-4a6d-e3b3-ba1a66f13c75"
      },
      "source": [
        "df.head()"
      ],
      "execution_count": 123,
      "outputs": [
        {
          "output_type": "execute_result",
          "data": {
            "text/html": [
              "<div>\n",
              "<style scoped>\n",
              "    .dataframe tbody tr th:only-of-type {\n",
              "        vertical-align: middle;\n",
              "    }\n",
              "\n",
              "    .dataframe tbody tr th {\n",
              "        vertical-align: top;\n",
              "    }\n",
              "\n",
              "    .dataframe thead th {\n",
              "        text-align: right;\n",
              "    }\n",
              "</style>\n",
              "<table border=\"1\" class=\"dataframe\">\n",
              "  <thead>\n",
              "    <tr style=\"text-align: right;\">\n",
              "      <th></th>\n",
              "      <th>Sales</th>\n",
              "    </tr>\n",
              "    <tr>\n",
              "      <th>Month</th>\n",
              "      <th></th>\n",
              "    </tr>\n",
              "  </thead>\n",
              "  <tbody>\n",
              "    <tr>\n",
              "      <th>1901-01-01</th>\n",
              "      <td>266.0</td>\n",
              "    </tr>\n",
              "    <tr>\n",
              "      <th>1901-02-01</th>\n",
              "      <td>145.9</td>\n",
              "    </tr>\n",
              "    <tr>\n",
              "      <th>1901-03-01</th>\n",
              "      <td>183.1</td>\n",
              "    </tr>\n",
              "    <tr>\n",
              "      <th>1901-04-01</th>\n",
              "      <td>119.3</td>\n",
              "    </tr>\n",
              "    <tr>\n",
              "      <th>1901-05-01</th>\n",
              "      <td>180.3</td>\n",
              "    </tr>\n",
              "  </tbody>\n",
              "</table>\n",
              "</div>"
            ],
            "text/plain": [
              "            Sales\n",
              "Month            \n",
              "1901-01-01  266.0\n",
              "1901-02-01  145.9\n",
              "1901-03-01  183.1\n",
              "1901-04-01  119.3\n",
              "1901-05-01  180.3"
            ]
          },
          "metadata": {
            "tags": []
          },
          "execution_count": 123
        }
      ]
    },
    {
      "cell_type": "code",
      "metadata": {
        "colab": {
          "base_uri": "https://localhost:8080/",
          "height": 308
        },
        "id": "BCIoX4x_ozrM",
        "outputId": "9f5746cf-a22f-4919-ed69-95168e25a723"
      },
      "source": [
        "df.plot()"
      ],
      "execution_count": 124,
      "outputs": [
        {
          "output_type": "execute_result",
          "data": {
            "text/plain": [
              "<matplotlib.axes._subplots.AxesSubplot at 0x7f79dcef3780>"
            ]
          },
          "metadata": {
            "tags": []
          },
          "execution_count": 124
        },
        {
          "output_type": "display_data",
          "data": {
            "image/png": "[encoded data removed]",
            "text/plain": [
              "<Figure size 432x288 with 1 Axes>"
            ]
          },
          "metadata": {
            "tags": [],
            "needs_background": "light"
          }
        }
      ]
    },
    {
      "cell_type": "markdown",
      "metadata": {
        "id": "IRSukFBEvqti"
      },
      "source": [
        "The shampoo sales shows a clear trend\n",
        "##Determining the right lag for ARIMA\n",
        "We can decide it by looking the at the correlation betweeen subsequent time periods."
      ]
    },
    {
      "cell_type": "code",
      "metadata": {
        "colab": {
          "base_uri": "https://localhost:8080/",
          "height": 283
        },
        "id": "8ePKBLxHp8BP",
        "outputId": "582b5098-5c31-4c9b-ffe7-143d8878d06c"
      },
      "source": [
        "pd.plotting.autocorrelation_plot(df)\n",
        "pyplot.show()"
      ],
      "execution_count": 125,
      "outputs": [
        {
          "output_type": "display_data",
          "data": {
            "image/png": "[encoded data removed]",
            "text/plain": [
              "<Figure size 432x288 with 1 Axes>"
            ]
          },
          "metadata": {
            "tags": [],
            "needs_background": "light"
          }
        }
      ]
    },
    {
      "cell_type": "markdown",
      "metadata": {
        "id": "uQBaIMrix_EV"
      },
      "source": [
        "There is a strong correlation in the first 5 lags, therofore, we can consider 5 as the P value and since the data is not stationary (the trends in the dataset), as seen in the df, we can set 1 as the d value for a minor diffrencing for making it stationary."
      ]
    },
    {
      "cell_type": "markdown",
      "metadata": {
        "id": "ENAgWG0y1afl"
      },
      "source": [
        "##Modelling and Evaluation"
      ]
    },
    {
      "cell_type": "code",
      "metadata": {
        "id": "gl7X9G0Jwo5A"
      },
      "source": [
        "from statsmodels.tsa.arima_model import ARIMA"
      ],
      "execution_count": 126,
      "outputs": []
    },
    {
      "cell_type": "code",
      "metadata": {
        "id": "LN8vurnr2M2o"
      },
      "source": [
        "df.index = df.index.to_period('M')"
      ],
      "execution_count": 127,
      "outputs": []
    },
    {
      "cell_type": "code",
      "metadata": {
        "colab": {
          "base_uri": "https://localhost:8080/",
          "height": 235
        },
        "id": "XKZcgR1F2Vss",
        "outputId": "7c37dbd4-8875-4dc3-ba72-3e8b880ce664"
      },
      "source": [
        "df.head()"
      ],
      "execution_count": 128,
      "outputs": [
        {
          "output_type": "execute_result",
          "data": {
            "text/html": [
              "<div>\n",
              "<style scoped>\n",
              "    .dataframe tbody tr th:only-of-type {\n",
              "        vertical-align: middle;\n",
              "    }\n",
              "\n",
              "    .dataframe tbody tr th {\n",
              "        vertical-align: top;\n",
              "    }\n",
              "\n",
              "    .dataframe thead th {\n",
              "        text-align: right;\n",
              "    }\n",
              "</style>\n",
              "<table border=\"1\" class=\"dataframe\">\n",
              "  <thead>\n",
              "    <tr style=\"text-align: right;\">\n",
              "      <th></th>\n",
              "      <th>Sales</th>\n",
              "    </tr>\n",
              "    <tr>\n",
              "      <th>Month</th>\n",
              "      <th></th>\n",
              "    </tr>\n",
              "  </thead>\n",
              "  <tbody>\n",
              "    <tr>\n",
              "      <th>1901-01</th>\n",
              "      <td>266.0</td>\n",
              "    </tr>\n",
              "    <tr>\n",
              "      <th>1901-02</th>\n",
              "      <td>145.9</td>\n",
              "    </tr>\n",
              "    <tr>\n",
              "      <th>1901-03</th>\n",
              "      <td>183.1</td>\n",
              "    </tr>\n",
              "    <tr>\n",
              "      <th>1901-04</th>\n",
              "      <td>119.3</td>\n",
              "    </tr>\n",
              "    <tr>\n",
              "      <th>1901-05</th>\n",
              "      <td>180.3</td>\n",
              "    </tr>\n",
              "  </tbody>\n",
              "</table>\n",
              "</div>"
            ],
            "text/plain": [
              "         Sales\n",
              "Month         \n",
              "1901-01  266.0\n",
              "1901-02  145.9\n",
              "1901-03  183.1\n",
              "1901-04  119.3\n",
              "1901-05  180.3"
            ]
          },
          "metadata": {
            "tags": []
          },
          "execution_count": 128
        }
      ]
    },
    {
      "cell_type": "markdown",
      "metadata": {
        "id": "_8iB8-lr9AVg"
      },
      "source": [
        "Data Split"
      ]
    },
    {
      "cell_type": "code",
      "metadata": {
        "id": "p8Rt8BTs2BrM"
      },
      "source": [
        "train_size = int(df.shape[0]*0.7)"
      ],
      "execution_count": 129,
      "outputs": []
    },
    {
      "cell_type": "code",
      "metadata": {
        "id": "wkbE7J2P0N3b"
      },
      "source": [
        "train, test = df.iloc[0:train_size], df.iloc[train_size:df.shape[0]]"
      ],
      "execution_count": 130,
      "outputs": []
    },
    {
      "cell_type": "code",
      "metadata": {
        "id": "EH4SRMOa1i4E"
      },
      "source": [
        "model = ARIMA(train, order=(5,1,0))\n",
        "model_fit = model.fit()"
      ],
      "execution_count": 131,
      "outputs": []
    },
    {
      "cell_type": "markdown",
      "metadata": {
        "id": "XBpbaL5x9E-C"
      },
      "source": [
        "Model evaluation"
      ]
    },
    {
      "cell_type": "code",
      "metadata": {
        "colab": {
          "base_uri": "https://localhost:8080/"
        },
        "id": "Eyy9j6aP69TD",
        "outputId": "789cb6b1-61cb-493b-db5b-cabb75b3a722"
      },
      "source": [
        "print(model_fit.summary())"
      ],
      "execution_count": 132,
      "outputs": [
        {
          "output_type": "stream",
          "text": [
            "                             ARIMA Model Results                              \n",
            "==============================================================================\n",
            "Dep. Variable:                D.Sales   No. Observations:                   24\n",
            "Model:                 ARIMA(5, 1, 0)   Log Likelihood                -131.525\n",
            "Method:                       css-mle   S.D. of innovations             56.043\n",
            "Date:                Mon, 08 Feb 2021   AIC                            277.051\n",
            "Time:                        14:44:26   BIC                            285.297\n",
            "Sample:                    02-28-1901   HQIC                           279.238\n",
            "                         - 01-31-1903                                         \n",
            "=================================================================================\n",
            "                    coef    std err          z      P>|z|      [0.025      0.975]\n",
            "---------------------------------------------------------------------------------\n",
            "const             7.4115      3.240      2.288      0.034       1.062      13.761\n",
            "ar.L1.D.Sales    -1.0402      0.225     -4.614      0.000      -1.482      -0.598\n",
            "ar.L2.D.Sales    -0.7527      0.327     -2.299      0.034      -1.394      -0.111\n",
            "ar.L3.D.Sales    -0.7154      0.330     -2.170      0.044      -1.362      -0.069\n",
            "ar.L4.D.Sales    -0.2889      0.324     -0.891      0.384      -0.924       0.346\n",
            "ar.L5.D.Sales    -0.0500      0.225     -0.222      0.826      -0.491       0.391\n",
            "                                    Roots                                    \n",
            "=============================================================================\n",
            "                  Real          Imaginary           Modulus         Frequency\n",
            "-----------------------------------------------------------------------------\n",
            "AR.1            0.2359           -1.2803j            1.3019           -0.2210\n",
            "AR.2            0.2359           +1.2803j            1.3019            0.2210\n",
            "AR.3           -1.2859           -0.0000j            1.2859           -0.5000\n",
            "AR.4           -2.4794           -1.7382j            3.0280           -0.4027\n",
            "AR.5           -2.4794           +1.7382j            3.0280            0.4027\n",
            "-----------------------------------------------------------------------------\n"
          ],
          "name": "stdout"
        }
      ]
    },
    {
      "cell_type": "code",
      "metadata": {
        "colab": {
          "base_uri": "https://localhost:8080/",
          "height": 291
        },
        "id": "BPhFjoA07q2E",
        "outputId": "7944ddee-0ed9-4b24-d245-1f12b5bd59c2"
      },
      "source": [
        "residuals = pd.DataFrame(model_fit.resid)\n",
        "residuals.plot()\n",
        "pyplot.show()"
      ],
      "execution_count": 133,
      "outputs": [
        {
          "output_type": "display_data",
          "data": {
            "image/png": "[encoded data removed]",
            "text/plain": [
              "<Figure size 432x288 with 1 Axes>"
            ]
          },
          "metadata": {
            "tags": [],
            "needs_background": "light"
          }
        }
      ]
    },
    {
      "cell_type": "code",
      "metadata": {
        "colab": {
          "base_uri": "https://localhost:8080/",
          "height": 265
        },
        "id": "xj03XaPY8Ze2",
        "outputId": "79718c61-4bc2-4997-f8d1-6a5e2f3de9ce"
      },
      "source": [
        "# density plot of residuals\n",
        "residuals.plot(kind='kde')\n",
        "pyplot.show()"
      ],
      "execution_count": 134,
      "outputs": [
        {
          "output_type": "display_data",
          "data": {
            "image/png": "[encoded data removed]",
            "text/plain": [
              "<Figure size 432x288 with 1 Axes>"
            ]
          },
          "metadata": {
            "tags": [],
            "needs_background": "light"
          }
        }
      ]
    },
    {
      "cell_type": "markdown",
      "metadata": {
        "id": "NL9wHq-m8rj8"
      },
      "source": [
        "The residual is following a normal distribution however its not zero, to be tter understand, we will describe the residuals."
      ]
    },
    {
      "cell_type": "code",
      "metadata": {
        "colab": {
          "base_uri": "https://localhost:8080/",
          "height": 297
        },
        "id": "Fa9R-TSq8bBO",
        "outputId": "8a362414-d082-442e-df15-f1584d6949f8"
      },
      "source": [
        "# stats of residuals\n",
        "residuals.describe()"
      ],
      "execution_count": 135,
      "outputs": [
        {
          "output_type": "execute_result",
          "data": {
            "text/html": [
              "<div>\n",
              "<style scoped>\n",
              "    .dataframe tbody tr th:only-of-type {\n",
              "        vertical-align: middle;\n",
              "    }\n",
              "\n",
              "    .dataframe tbody tr th {\n",
              "        vertical-align: top;\n",
              "    }\n",
              "\n",
              "    .dataframe thead th {\n",
              "        text-align: right;\n",
              "    }\n",
              "</style>\n",
              "<table border=\"1\" class=\"dataframe\">\n",
              "  <thead>\n",
              "    <tr style=\"text-align: right;\">\n",
              "      <th></th>\n",
              "      <th>0</th>\n",
              "    </tr>\n",
              "  </thead>\n",
              "  <tbody>\n",
              "    <tr>\n",
              "      <th>count</th>\n",
              "      <td>24.000000</td>\n",
              "    </tr>\n",
              "    <tr>\n",
              "      <th>mean</th>\n",
              "      <td>-8.956821</td>\n",
              "    </tr>\n",
              "    <tr>\n",
              "      <th>std</th>\n",
              "      <td>61.193480</td>\n",
              "    </tr>\n",
              "    <tr>\n",
              "      <th>min</th>\n",
              "      <td>-127.511480</td>\n",
              "    </tr>\n",
              "    <tr>\n",
              "      <th>25%</th>\n",
              "      <td>-54.439924</td>\n",
              "    </tr>\n",
              "    <tr>\n",
              "      <th>50%</th>\n",
              "      <td>-15.216597</td>\n",
              "    </tr>\n",
              "    <tr>\n",
              "      <th>75%</th>\n",
              "      <td>29.940979</td>\n",
              "    </tr>\n",
              "    <tr>\n",
              "      <th>max</th>\n",
              "      <td>127.229760</td>\n",
              "    </tr>\n",
              "  </tbody>\n",
              "</table>\n",
              "</div>"
            ],
            "text/plain": [
              "                0\n",
              "count   24.000000\n",
              "mean    -8.956821\n",
              "std     61.193480\n",
              "min   -127.511480\n",
              "25%    -54.439924\n",
              "50%    -15.216597\n",
              "75%     29.940979\n",
              "max    127.229760"
            ]
          },
          "metadata": {
            "tags": []
          },
          "execution_count": 135
        }
      ]
    },
    {
      "cell_type": "markdown",
      "metadata": {
        "id": "Hi9qfisW8oQA"
      },
      "source": [
        "Since the model consider the past values as the input for the predictions, we will follow a rolling window strategy for predictions and re-fitting the model on every iteration."
      ]
    },
    {
      "cell_type": "markdown",
      "metadata": {
        "id": "L8yvcfSWGRj0"
      },
      "source": [
        "##Forecast and Accuracy Measure"
      ]
    },
    {
      "cell_type": "code",
      "metadata": {
        "id": "LjoanO_lEQx7"
      },
      "source": [
        "from sklearn.metrics import mean_absolute_error"
      ],
      "execution_count": 141,
      "outputs": []
    },
    {
      "cell_type": "code",
      "metadata": {
        "id": "QPnC7P8kC68p"
      },
      "source": [
        "past_data = [i[0] for i in train.values]\n",
        "n_test = [i[0] for i in test.values]"
      ],
      "execution_count": 142,
      "outputs": []
    },
    {
      "cell_type": "code",
      "metadata": {
        "colab": {
          "base_uri": "https://localhost:8080/",
          "height": 473
        },
        "id": "HY8Zj5Ug8lrU",
        "outputId": "1df41446-3918-4ef9-bcce-f44c376ad55f"
      },
      "source": [
        "predictions = []\n",
        "# walk-forward validation\n",
        "for t in range(len(n_test)):\n",
        "\tmodel = ARIMA(past_data, order=(5,1,0))\n",
        "\tmodel_fit = model.fit()\n",
        "\toutput = model_fit.forecast()\n",
        "\ty_predict = output[0]\n",
        "\tpredictions.append(y_predict)\n",
        "\tobs = n_test[t]\n",
        "\tpast_data.append(obs)\n",
        "\tprint('predicted = {}, expected = {}'.format(y_predict, obs))\n",
        "# evaluate forecasts\n",
        "mae = mean_absolute_error(n_test, predictions)\n",
        "print('Test MAE: %.3f' % rmse)\n",
        "# plot forecasts against actual outcomes\n",
        "pyplot.plot(n_test)\n",
        "pyplot.plot(predictions, color='red')\n",
        "pyplot.show()"
      ],
      "execution_count": 143,
      "outputs": [
        {
          "output_type": "stream",
          "text": [
            "predicted = [387.37641812], expected = 440.4\n",
            "predicted = [348.15413193], expected = 315.9\n",
            "predicted = [386.30878001], expected = 439.3\n",
            "predicted = [356.08203151], expected = 401.3\n",
            "predicted = [446.37950029], expected = 437.4\n",
            "predicted = [394.7372418], expected = 575.5\n",
            "predicted = [434.91552364], expected = 407.6\n",
            "predicted = [507.92341154], expected = 682.0\n",
            "predicted = [435.48287297], expected = 475.3\n",
            "predicted = [652.74376206], expected = 581.3\n",
            "predicted = [546.34351034], expected = 646.9\n",
            "Test MAE: 90.106\n"
          ],
          "name": "stdout"
        },
        {
          "output_type": "display_data",
          "data": {
            "image/png": "[encoded data removed]",
            "text/plain": [
              "<Figure size 432x288 with 1 Axes>"
            ]
          },
          "metadata": {
            "tags": [],
            "needs_background": "light"
          }
        }
      ]
    },
    {
      "cell_type": "markdown",
      "metadata": {
        "id": "GSlT6nwVGwvw"
      },
      "source": [
        "The predictions are alright, considering, we didn't do any tuning. the p, d, q parameters can be tuned to improve the accuracy."
      ]
    },
    {
      "cell_type": "code",
      "metadata": {
        "id": "XNiGwsnpHDPY"
      },
      "source": [
        ""
      ],
      "execution_count": null,
      "outputs": []
    }
  ]
}